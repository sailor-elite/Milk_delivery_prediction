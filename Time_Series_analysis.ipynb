{
 "cells": [
  {
   "cell_type": "markdown",
   "id": "e974d38e-29bc-4808-a12b-8be7515e65a7",
   "metadata": {},
   "source": [
    "# Config"
   ]
  },
  {
   "cell_type": "code",
   "execution_count": 1,
   "id": "59993ae9-598a-4290-ba10-2cf112391882",
   "metadata": {},
   "outputs": [],
   "source": [
    "import pandas as pd\n",
    "import matplotlib.pyplot as plt\n",
    "from statsmodels.tsa.seasonal import seasonal_decompose\n",
    "import numpy as np\n",
    "from matplotlib import pyplot\n",
    "from prophet import Prophet\n",
    "from statsmodels.tsa.stattools import adfuller\n",
    "import matplotlib.pyplot as plt\n",
    "from statsmodels.graphics.tsaplots import plot_acf, plot_pacf\n",
    "import pmdarima as pmd\n",
    "from statsmodels.tsa.statespace.sarimax import SARIMAX\n",
    "from sklearn.metrics import mean_squared_error\n"
   ]
  },
  {
   "cell_type": "markdown",
   "id": "25c3db8c-096a-4f9c-822a-744eb106aae3",
   "metadata": {},
   "source": [
    "# Main Objective"
   ]
  },
  {
   "cell_type": "markdown",
   "id": "971a382e-84d1-44b9-9768-696fe28df8c9",
   "metadata": {},
   "source": [
    "Main objective of this task is to find the best method to predict future values of milk collection based on given data."
   ]
  },
  {
   "cell_type": "markdown",
   "id": "55a0f55a-6169-48ca-81b3-07e40261cf46",
   "metadata": {},
   "source": [
    "# Loading data"
   ]
  },
  {
   "cell_type": "code",
   "execution_count": 2,
   "id": "685772cb-add2-4f5f-bc90-57f0f96f80b6",
   "metadata": {},
   "outputs": [],
   "source": [
    "data = {\n",
    "    \n",
    "}"
   ]
  },
  {
   "cell_type": "code",
   "execution_count": 3,
   "id": "d02f4a8d-f886-4175-aba0-6ff0c6393c21",
   "metadata": {},
   "outputs": [],
   "source": [
    "data[\"delivery\"] = pd.read_excel(\"Delivery_data.xlsx\")"
   ]
  },
  {
   "cell_type": "code",
   "execution_count": 4,
   "id": "d3a1fa5b-233b-4f4a-b1a5-e8602fa9223d",
   "metadata": {},
   "outputs": [
    {
     "data": {
      "text/html": [
       "<div>\n",
       "<style scoped>\n",
       "    .dataframe tbody tr th:only-of-type {\n",
       "        vertical-align: middle;\n",
       "    }\n",
       "\n",
       "    .dataframe tbody tr th {\n",
       "        vertical-align: top;\n",
       "    }\n",
       "\n",
       "    .dataframe thead th {\n",
       "        text-align: right;\n",
       "    }\n",
       "</style>\n",
       "<table border=\"1\" class=\"dataframe\">\n",
       "  <thead>\n",
       "    <tr style=\"text-align: right;\">\n",
       "      <th></th>\n",
       "      <th>Farm ID</th>\n",
       "      <th>Rok</th>\n",
       "      <th>Tydzień</th>\n",
       "      <th>Start tygodnia</th>\n",
       "      <th>Ilość</th>\n",
       "      <th>y</th>\n",
       "      <th>y_raw</th>\n",
       "    </tr>\n",
       "  </thead>\n",
       "  <tbody>\n",
       "    <tr>\n",
       "      <th>0</th>\n",
       "      <td>1311</td>\n",
       "      <td>2022</td>\n",
       "      <td>1</td>\n",
       "      <td>2022-01-03</td>\n",
       "      <td>8683.23</td>\n",
       "      <td>10149.08</td>\n",
       "      <td>10149.08</td>\n",
       "    </tr>\n",
       "    <tr>\n",
       "      <th>1</th>\n",
       "      <td>1270</td>\n",
       "      <td>2022</td>\n",
       "      <td>1</td>\n",
       "      <td>2022-01-03</td>\n",
       "      <td>4841.73</td>\n",
       "      <td>4225.18</td>\n",
       "      <td>4225.18</td>\n",
       "    </tr>\n",
       "    <tr>\n",
       "      <th>2</th>\n",
       "      <td>1317</td>\n",
       "      <td>2022</td>\n",
       "      <td>1</td>\n",
       "      <td>2022-01-03</td>\n",
       "      <td>12363.43</td>\n",
       "      <td>10861.82</td>\n",
       "      <td>10861.82</td>\n",
       "    </tr>\n",
       "    <tr>\n",
       "      <th>3</th>\n",
       "      <td>1271</td>\n",
       "      <td>2022</td>\n",
       "      <td>1</td>\n",
       "      <td>2022-01-03</td>\n",
       "      <td>3115.41</td>\n",
       "      <td>3642.37</td>\n",
       "      <td>3642.37</td>\n",
       "    </tr>\n",
       "    <tr>\n",
       "      <th>4</th>\n",
       "      <td>1132</td>\n",
       "      <td>2022</td>\n",
       "      <td>1</td>\n",
       "      <td>2022-01-03</td>\n",
       "      <td>925.49</td>\n",
       "      <td>1076.46</td>\n",
       "      <td>1076.46</td>\n",
       "    </tr>\n",
       "  </tbody>\n",
       "</table>\n",
       "</div>"
      ],
      "text/plain": [
       "   Farm ID   Rok  Tydzień Start tygodnia     Ilość         y     y_raw\n",
       "0     1311  2022        1     2022-01-03   8683.23  10149.08  10149.08\n",
       "1     1270  2022        1     2022-01-03   4841.73   4225.18   4225.18\n",
       "2     1317  2022        1     2022-01-03  12363.43  10861.82  10861.82\n",
       "3     1271  2022        1     2022-01-03   3115.41   3642.37   3642.37\n",
       "4     1132  2022        1     2022-01-03    925.49   1076.46   1076.46"
      ]
     },
     "execution_count": 4,
     "metadata": {},
     "output_type": "execute_result"
    }
   ],
   "source": [
    "data[\"delivery\"].head(5)"
   ]
  },
  {
   "cell_type": "markdown",
   "id": "4f7245fe-a077-4629-befb-55ff226d3151",
   "metadata": {},
   "source": [
    "## Translation of column names"
   ]
  },
  {
   "cell_type": "code",
   "execution_count": 5,
   "id": "2481674c-c2ad-43c5-bf22-9502d5c9afcf",
   "metadata": {},
   "outputs": [],
   "source": [
    "data[\"delivery\"] = data[\"delivery\"].rename(columns= {\"Tydzień\" : \"Week\", \"Start tygodnia\" : \"First day of the week\", \"Ilość\":\"Quantity\", \"Rok\":\"Year\"})"
   ]
  },
  {
   "cell_type": "markdown",
   "id": "2adaa0bf-e3a7-45d6-9e46-810886462fec",
   "metadata": {},
   "source": [
    "## Brief description of data"
   ]
  },
  {
   "cell_type": "code",
   "execution_count": 6,
   "id": "aa575fa0-ec20-40c0-b207-02acb17ac57c",
   "metadata": {},
   "outputs": [
    {
     "data": {
      "text/html": [
       "<div>\n",
       "<style scoped>\n",
       "    .dataframe tbody tr th:only-of-type {\n",
       "        vertical-align: middle;\n",
       "    }\n",
       "\n",
       "    .dataframe tbody tr th {\n",
       "        vertical-align: top;\n",
       "    }\n",
       "\n",
       "    .dataframe thead th {\n",
       "        text-align: right;\n",
       "    }\n",
       "</style>\n",
       "<table border=\"1\" class=\"dataframe\">\n",
       "  <thead>\n",
       "    <tr style=\"text-align: right;\">\n",
       "      <th></th>\n",
       "      <th>Farm ID</th>\n",
       "      <th>Year</th>\n",
       "      <th>Week</th>\n",
       "      <th>First day of the week</th>\n",
       "      <th>Quantity</th>\n",
       "      <th>y</th>\n",
       "      <th>y_raw</th>\n",
       "    </tr>\n",
       "  </thead>\n",
       "  <tbody>\n",
       "    <tr>\n",
       "      <th>0</th>\n",
       "      <td>1311</td>\n",
       "      <td>2022</td>\n",
       "      <td>1</td>\n",
       "      <td>2022-01-03</td>\n",
       "      <td>8683.23</td>\n",
       "      <td>10149.08</td>\n",
       "      <td>10149.08</td>\n",
       "    </tr>\n",
       "  </tbody>\n",
       "</table>\n",
       "</div>"
      ],
      "text/plain": [
       "   Farm ID  Year  Week First day of the week  Quantity         y     y_raw\n",
       "0     1311  2022     1            2022-01-03   8683.23  10149.08  10149.08"
      ]
     },
     "execution_count": 6,
     "metadata": {},
     "output_type": "execute_result"
    }
   ],
   "source": [
    "data[\"delivery\"].head(1)"
   ]
  },
  {
   "cell_type": "code",
   "execution_count": 7,
   "id": "e74cb7dc-741d-4dab-b037-fa2dba003d6c",
   "metadata": {},
   "outputs": [
    {
     "data": {
      "text/plain": [
       "320"
      ]
     },
     "execution_count": 7,
     "metadata": {},
     "output_type": "execute_result"
    }
   ],
   "source": [
    "# Farm ID is an unique indetifier to determine overall quantity of milk delivered by spiecified supplier\n",
    "data[\"delivery\"][\"Farm ID\"].nunique()"
   ]
  },
  {
   "cell_type": "code",
   "execution_count": 8,
   "id": "d8648600-d7df-4a91-aea3-fe802664526c",
   "metadata": {},
   "outputs": [
    {
     "data": {
      "text/plain": [
       "3"
      ]
     },
     "metadata": {},
     "output_type": "display_data"
    },
    {
     "data": {
      "text/plain": [
       "array([2022, 2023, 2024])"
      ]
     },
     "metadata": {},
     "output_type": "display_data"
    }
   ],
   "source": [
    "# Year is the year of milk delivery - between 2022 and 2024\n",
    "display(data[\"delivery\"][\"Year\"].nunique())\n",
    "display(data[\"delivery\"][\"Year\"].unique())"
   ]
  },
  {
   "cell_type": "code",
   "execution_count": 9,
   "id": "083046a6-c671-4ccb-a5fd-9b9d2e6d773e",
   "metadata": {},
   "outputs": [
    {
     "data": {
      "text/plain": [
       "52"
      ]
     },
     "metadata": {},
     "output_type": "display_data"
    },
    {
     "data": {
      "text/plain": [
       "array([ 1,  2,  3,  4,  5,  6,  7,  8,  9, 10, 11, 12, 13, 14, 15, 16, 17,\n",
       "       18, 19, 20, 21, 22, 23, 24, 25, 26, 27, 28, 29, 30, 31, 32, 33, 34,\n",
       "       35, 36, 37, 38, 39, 40, 41, 42, 43, 44, 45, 46, 47, 48, 49, 50, 51,\n",
       "       52])"
      ]
     },
     "metadata": {},
     "output_type": "display_data"
    }
   ],
   "source": [
    "# week is the week of milk delivery - between 1 and 52\n",
    "display(data[\"delivery\"][\"Week\"].nunique())\n",
    "display(data[\"delivery\"][\"Week\"].unique())"
   ]
  },
  {
   "cell_type": "code",
   "execution_count": 10,
   "id": "2c8afce8-c960-47d9-b7b2-e6e1ffdcbc1c",
   "metadata": {},
   "outputs": [
    {
     "data": {
      "text/plain": [
       "156"
      ]
     },
     "metadata": {},
     "output_type": "display_data"
    },
    {
     "data": {
      "text/plain": [
       "<DatetimeArray>\n",
       "['2022-01-03 00:00:00', '2022-01-10 00:00:00', '2022-01-17 00:00:00',\n",
       " '2022-01-24 00:00:00', '2022-01-31 00:00:00', '2022-02-07 00:00:00',\n",
       " '2022-02-14 00:00:00', '2022-02-21 00:00:00', '2022-02-28 00:00:00',\n",
       " '2022-03-07 00:00:00',\n",
       " ...\n",
       " '2024-10-21 00:00:00', '2024-10-28 00:00:00', '2024-11-04 00:00:00',\n",
       " '2024-11-11 00:00:00', '2024-11-18 00:00:00', '2024-11-25 00:00:00',\n",
       " '2024-12-02 00:00:00', '2024-12-09 00:00:00', '2024-12-16 00:00:00',\n",
       " '2024-12-23 00:00:00']\n",
       "Length: 156, dtype: datetime64[ns]"
      ]
     },
     "metadata": {},
     "output_type": "display_data"
    }
   ],
   "source": [
    "# first day of the week is dtype datetime64[ns] object. The first day of the week delivery - between 2022-01-03 00:00:00 and 2024-12-23 00:00:00\n",
    "display(data[\"delivery\"][\"First day of the week\"].nunique())\n",
    "display(data[\"delivery\"][\"First day of the week\"].unique())"
   ]
  },
  {
   "cell_type": "code",
   "execution_count": 11,
   "id": "cfe31e67-db9e-4019-972a-f95217a05aba",
   "metadata": {},
   "outputs": [
    {
     "data": {
      "text/plain": [
       "2297.9326886915383"
      ]
     },
     "metadata": {},
     "output_type": "display_data"
    }
   ],
   "source": [
    "# Quantity is the \"raw\" data from milk collection point\n",
    "display(data[\"delivery\"][\"Quantity\"].mean())"
   ]
  },
  {
   "cell_type": "code",
   "execution_count": 12,
   "id": "78fb1070-fb81-4a49-9b15-51874ddb0ee9",
   "metadata": {},
   "outputs": [
    {
     "data": {
      "text/plain": [
       "2298.5747168373996"
      ]
     },
     "metadata": {},
     "output_type": "display_data"
    }
   ],
   "source": [
    "# Quantity is the data that is treated as an only daily collection cycle\n",
    "\n",
    "display(data[\"delivery\"][\"y_raw\"].mean())"
   ]
  },
  {
   "cell_type": "code",
   "execution_count": 13,
   "id": "d9550ca0-6e9f-4937-a4ea-fdf4a7cf1d68",
   "metadata": {},
   "outputs": [
    {
     "data": {
      "text/plain": [
       "2299.1915784936755"
      ]
     },
     "metadata": {},
     "output_type": "display_data"
    }
   ],
   "source": [
    "# Quantity is the data that is cleared from outliers and is treated as an only daily collection cycle\n",
    "display(data[\"delivery\"][\"y\"].mean())"
   ]
  },
  {
   "cell_type": "markdown",
   "id": "9d6ae4bb-13b9-45b1-a3ba-6f4378b17ce0",
   "metadata": {},
   "source": [
    "# Data exploration"
   ]
  },
  {
   "cell_type": "code",
   "execution_count": 14,
   "id": "0dc6b095-d839-4e46-a013-0c96b6cacf0a",
   "metadata": {},
   "outputs": [
    {
     "data": {
      "text/html": [
       "<div>\n",
       "<style scoped>\n",
       "    .dataframe tbody tr th:only-of-type {\n",
       "        vertical-align: middle;\n",
       "    }\n",
       "\n",
       "    .dataframe tbody tr th {\n",
       "        vertical-align: top;\n",
       "    }\n",
       "\n",
       "    .dataframe thead th {\n",
       "        text-align: right;\n",
       "    }\n",
       "</style>\n",
       "<table border=\"1\" class=\"dataframe\">\n",
       "  <thead>\n",
       "    <tr style=\"text-align: right;\">\n",
       "      <th></th>\n",
       "      <th>Farm ID</th>\n",
       "      <th>Year</th>\n",
       "      <th>Week</th>\n",
       "      <th>First day of the week</th>\n",
       "      <th>Quantity</th>\n",
       "      <th>y</th>\n",
       "      <th>y_raw</th>\n",
       "    </tr>\n",
       "  </thead>\n",
       "  <tbody>\n",
       "    <tr>\n",
       "      <th>count</th>\n",
       "      <td>49883.000000</td>\n",
       "      <td>49883.000000</td>\n",
       "      <td>49883.000000</td>\n",
       "      <td>49883</td>\n",
       "      <td>49883.000000</td>\n",
       "      <td>49883.000000</td>\n",
       "      <td>49883.000000</td>\n",
       "    </tr>\n",
       "    <tr>\n",
       "      <th>mean</th>\n",
       "      <td>1160.493836</td>\n",
       "      <td>2023.000742</td>\n",
       "      <td>26.514303</td>\n",
       "      <td>2023-06-29 20:52:58.028587008</td>\n",
       "      <td>2297.932689</td>\n",
       "      <td>2299.191578</td>\n",
       "      <td>2298.574717</td>\n",
       "    </tr>\n",
       "    <tr>\n",
       "      <th>min</th>\n",
       "      <td>1001.000000</td>\n",
       "      <td>2022.000000</td>\n",
       "      <td>1.000000</td>\n",
       "      <td>2022-01-03 00:00:00</td>\n",
       "      <td>84.740000</td>\n",
       "      <td>73.320000</td>\n",
       "      <td>73.320000</td>\n",
       "    </tr>\n",
       "    <tr>\n",
       "      <th>25%</th>\n",
       "      <td>1080.000000</td>\n",
       "      <td>2022.000000</td>\n",
       "      <td>14.000000</td>\n",
       "      <td>2022-10-03 00:00:00</td>\n",
       "      <td>695.360000</td>\n",
       "      <td>713.910000</td>\n",
       "      <td>713.495000</td>\n",
       "    </tr>\n",
       "    <tr>\n",
       "      <th>50%</th>\n",
       "      <td>1160.000000</td>\n",
       "      <td>2023.000000</td>\n",
       "      <td>27.000000</td>\n",
       "      <td>2023-07-03 00:00:00</td>\n",
       "      <td>1364.360000</td>\n",
       "      <td>1390.190000</td>\n",
       "      <td>1389.640000</td>\n",
       "    </tr>\n",
       "    <tr>\n",
       "      <th>75%</th>\n",
       "      <td>1241.000000</td>\n",
       "      <td>2024.000000</td>\n",
       "      <td>40.000000</td>\n",
       "      <td>2024-04-01 00:00:00</td>\n",
       "      <td>2567.435000</td>\n",
       "      <td>2572.530000</td>\n",
       "      <td>2570.880000</td>\n",
       "    </tr>\n",
       "    <tr>\n",
       "      <th>max</th>\n",
       "      <td>1320.000000</td>\n",
       "      <td>2024.000000</td>\n",
       "      <td>52.000000</td>\n",
       "      <td>2024-12-23 00:00:00</td>\n",
       "      <td>52352.600000</td>\n",
       "      <td>52241.040000</td>\n",
       "      <td>52241.040000</td>\n",
       "    </tr>\n",
       "    <tr>\n",
       "      <th>std</th>\n",
       "      <td>92.401104</td>\n",
       "      <td>0.816353</td>\n",
       "      <td>15.004375</td>\n",
       "      <td>NaN</td>\n",
       "      <td>3394.440341</td>\n",
       "      <td>3367.655556</td>\n",
       "      <td>3368.607343</td>\n",
       "    </tr>\n",
       "  </tbody>\n",
       "</table>\n",
       "</div>"
      ],
      "text/plain": [
       "            Farm ID          Year          Week  \\\n",
       "count  49883.000000  49883.000000  49883.000000   \n",
       "mean    1160.493836   2023.000742     26.514303   \n",
       "min     1001.000000   2022.000000      1.000000   \n",
       "25%     1080.000000   2022.000000     14.000000   \n",
       "50%     1160.000000   2023.000000     27.000000   \n",
       "75%     1241.000000   2024.000000     40.000000   \n",
       "max     1320.000000   2024.000000     52.000000   \n",
       "std       92.401104      0.816353     15.004375   \n",
       "\n",
       "               First day of the week      Quantity             y         y_raw  \n",
       "count                          49883  49883.000000  49883.000000  49883.000000  \n",
       "mean   2023-06-29 20:52:58.028587008   2297.932689   2299.191578   2298.574717  \n",
       "min              2022-01-03 00:00:00     84.740000     73.320000     73.320000  \n",
       "25%              2022-10-03 00:00:00    695.360000    713.910000    713.495000  \n",
       "50%              2023-07-03 00:00:00   1364.360000   1390.190000   1389.640000  \n",
       "75%              2024-04-01 00:00:00   2567.435000   2572.530000   2570.880000  \n",
       "max              2024-12-23 00:00:00  52352.600000  52241.040000  52241.040000  \n",
       "std                              NaN   3394.440341   3367.655556   3368.607343  "
      ]
     },
     "execution_count": 14,
     "metadata": {},
     "output_type": "execute_result"
    }
   ],
   "source": [
    "data[\"delivery\"].describe()"
   ]
  },
  {
   "cell_type": "code",
   "execution_count": 15,
   "id": "b10c6db7-3119-4418-8811-37e6b5036d26",
   "metadata": {},
   "outputs": [
    {
     "data": {
      "image/png": "[encoded data removed]",
      "text/plain": [
       "<Figure size 1200x600 with 1 Axes>"
      ]
     },
     "metadata": {},
     "output_type": "display_data"
    }
   ],
   "source": [
    "data[\"daily_sum\"] = data[\"delivery\"].groupby(\"First day of the week\")[[\"Quantity\", \"y\", \"y_raw\"]].sum()\n",
    "data[\"daily_sum\"].plot(kind=\"line\", figsize=(12,6), title=\"Daily: Quantity, y, y_raw\")\n",
    "plt.xlabel(\"Day of the week\")\n",
    "plt.ylabel(\"Sum\")\n",
    "plt.xticks(rotation=45)\n",
    "plt.tight_layout()\n",
    "plt.show()"
   ]
  },
  {
   "cell_type": "markdown",
   "id": "2a0d7c50-df0c-4421-b904-84b38aa691bb",
   "metadata": {},
   "source": [
    "As seen on plot above, the \"quantity\" behaves the worst because of spikes. Let's get rid of it"
   ]
  },
  {
   "cell_type": "code",
   "execution_count": 16,
   "id": "3bf50c00-ca2c-400c-86dc-27520c1cde44",
   "metadata": {},
   "outputs": [],
   "source": [
    "data[\"delivery\"] = data[\"delivery\"].drop(columns={\"Quantity\"})"
   ]
  },
  {
   "cell_type": "code",
   "execution_count": 17,
   "id": "bc0bb51a-09a7-4551-b4f8-b1a93a8a33a9",
   "metadata": {},
   "outputs": [
    {
     "data": {
      "text/html": [
       "<div>\n",
       "<style scoped>\n",
       "    .dataframe tbody tr th:only-of-type {\n",
       "        vertical-align: middle;\n",
       "    }\n",
       "\n",
       "    .dataframe tbody tr th {\n",
       "        vertical-align: top;\n",
       "    }\n",
       "\n",
       "    .dataframe thead th {\n",
       "        text-align: right;\n",
       "    }\n",
       "</style>\n",
       "<table border=\"1\" class=\"dataframe\">\n",
       "  <thead>\n",
       "    <tr style=\"text-align: right;\">\n",
       "      <th></th>\n",
       "      <th>Farm ID</th>\n",
       "      <th>Year</th>\n",
       "      <th>Week</th>\n",
       "      <th>First day of the week</th>\n",
       "      <th>y</th>\n",
       "      <th>y_raw</th>\n",
       "    </tr>\n",
       "  </thead>\n",
       "  <tbody>\n",
       "    <tr>\n",
       "      <th>0</th>\n",
       "      <td>1311</td>\n",
       "      <td>2022</td>\n",
       "      <td>1</td>\n",
       "      <td>2022-01-03</td>\n",
       "      <td>10149.08</td>\n",
       "      <td>10149.08</td>\n",
       "    </tr>\n",
       "  </tbody>\n",
       "</table>\n",
       "</div>"
      ],
      "text/plain": [
       "   Farm ID  Year  Week First day of the week         y     y_raw\n",
       "0     1311  2022     1            2022-01-03  10149.08  10149.08"
      ]
     },
     "execution_count": 17,
     "metadata": {},
     "output_type": "execute_result"
    }
   ],
   "source": [
    "data[\"delivery\"].head(1)"
   ]
  },
  {
   "cell_type": "markdown",
   "id": "f8044d6a-2e90-43f0-8bec-329639622978",
   "metadata": {},
   "source": [
    "Let's now compare the y vs y_raw"
   ]
  },
  {
   "cell_type": "code",
   "execution_count": 18,
   "id": "a85fbc0a-9fa8-4d3e-b3b6-c1c15901a9ac",
   "metadata": {},
   "outputs": [
    {
     "data": {
      "image/png": "[encoded data removed]",
      "text/plain": [
       "<Figure size 1200x600 with 1 Axes>"
      ]
     },
     "metadata": {},
     "output_type": "display_data"
    }
   ],
   "source": [
    "data[\"daily_sum\"] = data[\"delivery\"].groupby(\"First day of the week\")[[\"y\", \"y_raw\"]].sum()\n",
    "data[\"daily_sum\"].plot(kind=\"line\", figsize=(12,6), title=\"Daily: Quantity, y, y_raw\")\n",
    "plt.xlabel(\"Day of the week\")\n",
    "plt.ylabel(\"Sum\")\n",
    "plt.xticks(rotation=45)\n",
    "plt.tight_layout()\n",
    "plt.show()"
   ]
  },
  {
   "cell_type": "code",
   "execution_count": 19,
   "id": "4c538df3-121a-42c8-be48-78ee00c6ea53",
   "metadata": {},
   "outputs": [],
   "source": [
    "# From my personal point of view, the \"y\" value seems to be better at smoothness. Let's drop y_raw"
   ]
  },
  {
   "cell_type": "code",
   "execution_count": 20,
   "id": "8785561d-4890-45ff-ab36-8b36eb9c2fc4",
   "metadata": {},
   "outputs": [],
   "source": [
    "data[\"delivery\"] = data[\"delivery\"].drop(columns={\"y_raw\"})"
   ]
  },
  {
   "cell_type": "code",
   "execution_count": 21,
   "id": "1d00170d-d5d6-4416-abc4-3ab2669e92ac",
   "metadata": {},
   "outputs": [
    {
     "data": {
      "text/html": [
       "<div>\n",
       "<style scoped>\n",
       "    .dataframe tbody tr th:only-of-type {\n",
       "        vertical-align: middle;\n",
       "    }\n",
       "\n",
       "    .dataframe tbody tr th {\n",
       "        vertical-align: top;\n",
       "    }\n",
       "\n",
       "    .dataframe thead th {\n",
       "        text-align: right;\n",
       "    }\n",
       "</style>\n",
       "<table border=\"1\" class=\"dataframe\">\n",
       "  <thead>\n",
       "    <tr style=\"text-align: right;\">\n",
       "      <th></th>\n",
       "      <th>Farm ID</th>\n",
       "      <th>Year</th>\n",
       "      <th>Week</th>\n",
       "      <th>First day of the week</th>\n",
       "      <th>y</th>\n",
       "    </tr>\n",
       "  </thead>\n",
       "  <tbody>\n",
       "    <tr>\n",
       "      <th>0</th>\n",
       "      <td>1311</td>\n",
       "      <td>2022</td>\n",
       "      <td>1</td>\n",
       "      <td>2022-01-03</td>\n",
       "      <td>10149.08</td>\n",
       "    </tr>\n",
       "  </tbody>\n",
       "</table>\n",
       "</div>"
      ],
      "text/plain": [
       "   Farm ID  Year  Week First day of the week         y\n",
       "0     1311  2022     1            2022-01-03  10149.08"
      ]
     },
     "execution_count": 21,
     "metadata": {},
     "output_type": "execute_result"
    }
   ],
   "source": [
    "data[\"delivery\"].head(1)"
   ]
  },
  {
   "cell_type": "markdown",
   "id": "f0707eef-091d-4c5c-a18f-6f423567a80a",
   "metadata": {},
   "source": [
    "# Time series decomposition"
   ]
  },
  {
   "cell_type": "code",
   "execution_count": 22,
   "id": "ca2ddcac-31a6-4c88-919a-3f2184e39401",
   "metadata": {},
   "outputs": [
    {
     "data": {
      "text/html": [
       "<div>\n",
       "<style scoped>\n",
       "    .dataframe tbody tr th:only-of-type {\n",
       "        vertical-align: middle;\n",
       "    }\n",
       "\n",
       "    .dataframe tbody tr th {\n",
       "        vertical-align: top;\n",
       "    }\n",
       "\n",
       "    .dataframe thead th {\n",
       "        text-align: right;\n",
       "    }\n",
       "</style>\n",
       "<table border=\"1\" class=\"dataframe\">\n",
       "  <thead>\n",
       "    <tr style=\"text-align: right;\">\n",
       "      <th></th>\n",
       "      <th>y</th>\n",
       "      <th>y_raw</th>\n",
       "    </tr>\n",
       "    <tr>\n",
       "      <th>First day of the week</th>\n",
       "      <th></th>\n",
       "      <th></th>\n",
       "    </tr>\n",
       "  </thead>\n",
       "  <tbody>\n",
       "    <tr>\n",
       "      <th>2022-01-03</th>\n",
       "      <td>665032.23</td>\n",
       "      <td>665096.87</td>\n",
       "    </tr>\n",
       "    <tr>\n",
       "      <th>2022-01-10</th>\n",
       "      <td>670191.95</td>\n",
       "      <td>669532.12</td>\n",
       "    </tr>\n",
       "    <tr>\n",
       "      <th>2022-01-17</th>\n",
       "      <td>674053.09</td>\n",
       "      <td>673657.35</td>\n",
       "    </tr>\n",
       "    <tr>\n",
       "      <th>2022-01-24</th>\n",
       "      <td>680375.89</td>\n",
       "      <td>680165.20</td>\n",
       "    </tr>\n",
       "    <tr>\n",
       "      <th>2022-01-31</th>\n",
       "      <td>683891.50</td>\n",
       "      <td>683530.08</td>\n",
       "    </tr>\n",
       "  </tbody>\n",
       "</table>\n",
       "</div>"
      ],
      "text/plain": [
       "                               y      y_raw\n",
       "First day of the week                      \n",
       "2022-01-03             665032.23  665096.87\n",
       "2022-01-10             670191.95  669532.12\n",
       "2022-01-17             674053.09  673657.35\n",
       "2022-01-24             680375.89  680165.20\n",
       "2022-01-31             683891.50  683530.08"
      ]
     },
     "execution_count": 22,
     "metadata": {},
     "output_type": "execute_result"
    }
   ],
   "source": [
    "data[\"daily_sum\"].head()"
   ]
  },
  {
   "cell_type": "code",
   "execution_count": 23,
   "id": "360dd13b-e4b9-4427-9594-daec018eba4f",
   "metadata": {},
   "outputs": [
    {
     "ename": "NameError",
     "evalue": "name 'decompose_add' is not defined",
     "output_type": "error",
     "traceback": [
      "\u001b[31m---------------------------------------------------------------------------\u001b[39m",
      "\u001b[31mNameError\u001b[39m                                 Traceback (most recent call last)",
      "\u001b[36mCell\u001b[39m\u001b[36m \u001b[39m\u001b[32mIn[23]\u001b[39m\u001b[32m, line 1\u001b[39m\n\u001b[32m----> \u001b[39m\u001b[32m1\u001b[39m \u001b[43mdecompose_add\u001b[49m.plot()\n\u001b[32m      2\u001b[39m pyplot.show()\n",
      "\u001b[31mNameError\u001b[39m: name 'decompose_add' is not defined"
     ]
    }
   ],
   "source": [
    "decompose_add.plot()\n",
    "pyplot.show()"
   ]
  },
  {
   "cell_type": "code",
   "execution_count": null,
   "id": "6fd3d286-9097-43a1-98e0-9c1ba8fe975e",
   "metadata": {},
   "outputs": [],
   "source": [
    "decompose_mult = seasonal_decompose(data[\"daily_sum\"][\"y_raw\"], model='multiplicative')\n",
    "decompose_add = seasonal_decompose(data[\"daily_sum\"][\"y_raw\"], model='additive')"
   ]
  },
  {
   "cell_type": "code",
   "execution_count": null,
   "id": "e0d21b94-a016-46e0-8a49-8203e38b0bdd",
   "metadata": {},
   "outputs": [],
   "source": [
    "decompose_add.plot()\n",
    "pyplot.show()"
   ]
  },
  {
   "cell_type": "code",
   "execution_count": null,
   "id": "4d58452e-dcf4-45fd-b586-85e6910ecb58",
   "metadata": {},
   "outputs": [],
   "source": [
    "decompose_mult.plot()\n",
    "pyplot.show()"
   ]
  },
  {
   "cell_type": "markdown",
   "id": "9d069c40-86bf-4b27-b6ce-86e31aa236d1",
   "metadata": {},
   "source": [
    "# Time series forecasting"
   ]
  },
  {
   "cell_type": "code",
   "execution_count": null,
   "id": "5d559d6c-e43b-4e19-a4e9-6b2c56ea2b6e",
   "metadata": {},
   "outputs": [],
   "source": [
    "data[\"forecast\"] = data[\"delivery\"][['First day of the week', 'y']]"
   ]
  },
  {
   "cell_type": "code",
   "execution_count": null,
   "id": "0e1f094b-a095-448b-bff7-778e6c126f6e",
   "metadata": {},
   "outputs": [],
   "source": [
    "data[\"forecast\"] = data[\"forecast\"].groupby(\"First day of the week\").sum()"
   ]
  },
  {
   "cell_type": "code",
   "execution_count": null,
   "id": "47cacfde-7606-48df-9ee3-f116d1d5f277",
   "metadata": {},
   "outputs": [],
   "source": [
    "data[\"forecast\"].head()"
   ]
  },
  {
   "cell_type": "code",
   "execution_count": null,
   "id": "f1a6a0c9-bafe-499d-a6a8-ee0da651a8dc",
   "metadata": {},
   "outputs": [],
   "source": [
    "data[\"forecast\"].plot()"
   ]
  },
  {
   "cell_type": "markdown",
   "id": "1c772333-4a54-4057-9a7b-7f216e631855",
   "metadata": {},
   "source": [
    "## Prophet Model"
   ]
  },
  {
   "cell_type": "code",
   "execution_count": null,
   "id": "33bdd432-87d6-4a60-90b9-55b78acafbbb",
   "metadata": {},
   "outputs": [],
   "source": [
    "data[\"model_prophet\"] = data[\"forecast\"]"
   ]
  },
  {
   "cell_type": "code",
   "execution_count": null,
   "id": "25bdfb7d-3d64-456e-b8cb-9633f6b0d7f7",
   "metadata": {},
   "outputs": [],
   "source": [
    "data[\"model_prophet\"].reset_index(inplace=True)"
   ]
  },
  {
   "cell_type": "code",
   "execution_count": null,
   "id": "48fb3620-b8af-42bb-a352-9e462720d87e",
   "metadata": {},
   "outputs": [],
   "source": [
    "data[\"model_prophet\"].columns = [\"ds\", \"y\"]"
   ]
  },
  {
   "cell_type": "code",
   "execution_count": null,
   "id": "0a79bfd3-04d6-4bc4-8346-ccdbb85e61c9",
   "metadata": {},
   "outputs": [],
   "source": [
    "data[\"model_prophet\"].head()"
   ]
  },
  {
   "cell_type": "code",
   "execution_count": null,
   "id": "1172b629-a081-475b-a9a2-97bfb64f63af",
   "metadata": {},
   "outputs": [],
   "source": [
    "model_prophet = Prophet()\n",
    "model_prophet.fit(data[\"model_prophet\"])\n",
    "data[\"forecast_prophet\"] = model_prophet.predict()"
   ]
  },
  {
   "cell_type": "code",
   "execution_count": null,
   "id": "de759c60-c7ce-4244-8ebb-6788e4928e7d",
   "metadata": {},
   "outputs": [],
   "source": [
    "data[\"model_prophet\"][\"yhat\"] = data[\"forecast_prophet\"][\"yhat\"]"
   ]
  },
  {
   "cell_type": "code",
   "execution_count": null,
   "id": "c6b4d98c-0ad3-4d4d-b120-929510da9ebd",
   "metadata": {},
   "outputs": [],
   "source": [
    "data[\"model_prophet\"].plot(x = 'ds')"
   ]
  },
  {
   "cell_type": "code",
   "execution_count": null,
   "id": "56abe045-5c7a-40db-ad32-dddf1d0d0e2b",
   "metadata": {},
   "outputs": [],
   "source": [
    "# Okay, for this course result seems fair enough"
   ]
  },
  {
   "cell_type": "markdown",
   "id": "d3e46b3f-1a0d-4a2e-9d8f-0e054d35a859",
   "metadata": {},
   "source": [
    "### Prophet Model Forecast"
   ]
  },
  {
   "cell_type": "code",
   "execution_count": null,
   "id": "da82410d-761e-4374-ac54-1dede4b5106b",
   "metadata": {},
   "outputs": [],
   "source": [
    "data[\"model_prophet\"].drop('yhat',axis = 1)"
   ]
  },
  {
   "cell_type": "code",
   "execution_count": null,
   "id": "da8b8363-a458-486d-9cfb-928c91756936",
   "metadata": {},
   "outputs": [],
   "source": [
    "model_prophet = Prophet()\n",
    "model_prophet.fit(data[\"model_prophet\"])\n",
    "data[\"forecast_prophet\"] = model_prophet.make_future_dataframe(periods = 52, freq=\"ME\")\n",
    "data[\"forecast_prophet\"] = model_prophet.predict()"
   ]
  },
  {
   "cell_type": "code",
   "execution_count": null,
   "id": "bafef705-fd39-4b41-b19b-a77d0bf1253f",
   "metadata": {},
   "outputs": [],
   "source": [
    "data[\"forecast_prophet\"].head()"
   ]
  },
  {
   "cell_type": "code",
   "execution_count": null,
   "id": "bbdca591-7ba6-4ebd-8d28-f0044bdd1f24",
   "metadata": {},
   "outputs": [],
   "source": [
    "data[\"model_prophet\"][\"yhat\"] = data[\"forecast_prophet\"][\"yhat\"]\n",
    "data[\"model_prophet\"][\"yhat_lower\"] = data[\"forecast_prophet\"][\"yhat_lower\"]\n",
    "data[\"model_prophet\"][\"yhat_upper\"] = data[\"forecast_prophet\"][\"yhat_upper\"]\n",
    "data[\"model_prophet\"][\"trend\"] = data[\"forecast_prophet\"][\"trend\"]"
   ]
  },
  {
   "cell_type": "code",
   "execution_count": null,
   "id": "b8a9d074-d67a-4fb3-bd1f-1ae2d884de8e",
   "metadata": {},
   "outputs": [],
   "source": [
    "data[\"model_prophet\"].plot(x='ds')"
   ]
  },
  {
   "cell_type": "code",
   "execution_count": null,
   "id": "7946863b-c5f4-4239-8dff-39dc49f5aefd",
   "metadata": {},
   "outputs": [],
   "source": [
    "# For now seems good enough"
   ]
  },
  {
   "cell_type": "markdown",
   "id": "a8d266a1-1c77-48ed-ade9-ed5338522ea1",
   "metadata": {},
   "source": [
    "## ARIMA Model"
   ]
  },
  {
   "cell_type": "markdown",
   "id": "4399be79-4a44-42a1-b26b-db73c46105d0",
   "metadata": {},
   "source": [
    "### Testing for stationarity"
   ]
  },
  {
   "cell_type": "code",
   "execution_count": null,
   "id": "3c7f175c-626d-4559-a0ce-e01be9bf67c8",
   "metadata": {},
   "outputs": [],
   "source": [
    "del data[\"forecast\"]"
   ]
  },
  {
   "cell_type": "code",
   "execution_count": null,
   "id": "65c8db81-d4bf-4081-b04b-5c06c8c03620",
   "metadata": {},
   "outputs": [],
   "source": [
    "data[\"forecast\"] = data[\"delivery\"][['First day of the week', 'y']]\n",
    "data[\"forecast\"] = data[\"forecast\"].groupby(\"First day of the week\").sum()\n",
    "data[\"model_ARIMA\"] = data[\"forecast\"]\n",
    "data[\"model_ARIMA\"].reset_index(inplace=True)\n",
    "data[\"model_ARIMA\"].columns = [\"ds\", \"y\"]"
   ]
  },
  {
   "cell_type": "code",
   "execution_count": null,
   "id": "f13d423a-a66e-4f83-bb3a-d9aaf4dad548",
   "metadata": {},
   "outputs": [],
   "source": [
    "adf_test = adfuller(data[\"model_ARIMA\"][\"y\"])\n",
    "print('ADF Statistic: %f' % adf_test[0])\n",
    "print('p-value: %f' % adf_test[1])"
   ]
  },
  {
   "cell_type": "code",
   "execution_count": null,
   "id": "57f813bf-893c-477e-beec-275a8152e89f",
   "metadata": {},
   "outputs": [],
   "source": [
    "fig, ax = plt.subplots(1, 1, figsize=(4, 4))\n",
    "plot_acf(data[\"model_ARIMA\"][\"y\"].dropna(), ax=ax, lags=40)\n",
    "ax.set_title(\"ACF\")\n",
    "plt.tight_layout()\n",
    "plt.show()"
   ]
  },
  {
   "cell_type": "code",
   "execution_count": null,
   "id": "0b2d65e6-e1bd-477d-952d-3ad14c9200a4",
   "metadata": {},
   "outputs": [],
   "source": [
    "## p-value > 0.05, so this indicates non-stationarity."
   ]
  },
  {
   "cell_type": "markdown",
   "id": "c68a13aa-c9c0-47c7-a285-3b1e1c9365d4",
   "metadata": {},
   "source": [
    "### Differencing data"
   ]
  },
  {
   "cell_type": "code",
   "execution_count": null,
   "id": "e53f05f8-e258-4004-9c14-0d935d465b18",
   "metadata": {},
   "outputs": [],
   "source": [
    "data[\"model_ARIMA\"][\"y_diff1\"] = data[\"model_ARIMA\"][\"y\"].diff(periods=1)\n",
    "data[\"model_ARIMA\"][\"y_diff2\"] = data[\"model_ARIMA\"][\"y\"].diff(periods=2)\n",
    "data[\"model_ARIMA\"][\"y_diff3\"] = data[\"model_ARIMA\"][\"y\"].diff(periods=3)"
   ]
  },
  {
   "cell_type": "code",
   "execution_count": null,
   "id": "c81f1844-9e81-4c85-b43c-cceedc650412",
   "metadata": {},
   "outputs": [],
   "source": [
    "adf_test = adfuller(data[\"model_ARIMA\"][\"y_diff1\"].dropna())\n",
    "print('ADF Statistic: %f' % adf_test[0])\n",
    "print('p-value: %f' % adf_test[1])"
   ]
  },
  {
   "cell_type": "code",
   "execution_count": null,
   "id": "557adbef-f3f4-454e-8d45-54f22c9d29c2",
   "metadata": {},
   "outputs": [],
   "source": [
    "adf_test = adfuller(data[\"model_ARIMA\"][\"y_diff2\"].dropna())\n",
    "print('ADF Statistic: %f' % adf_test[0])\n",
    "print('p-value: %f' % adf_test[1])"
   ]
  },
  {
   "cell_type": "code",
   "execution_count": null,
   "id": "30d05217-fcef-4dd6-8fe9-69c0dce13778",
   "metadata": {},
   "outputs": [],
   "source": [
    "adf_test = adfuller(data[\"model_ARIMA\"][\"y_diff3\"].dropna())\n",
    "print('ADF Statistic: %f' % adf_test[0])\n",
    "print('p-value: %f' % adf_test[1])"
   ]
  },
  {
   "cell_type": "code",
   "execution_count": null,
   "id": "36adbcb4-58a1-4a6a-bda0-bb481acaae23",
   "metadata": {},
   "outputs": [],
   "source": [
    "# hmm, p-value is barely below threshold."
   ]
  },
  {
   "cell_type": "code",
   "execution_count": null,
   "id": "38177ad1-21e4-4c55-9217-d3c836538b59",
   "metadata": {},
   "outputs": [],
   "source": [
    "data[\"model_ARIMA\"].plot(x=\"ds\", y=\"y_diff3\")"
   ]
  },
  {
   "cell_type": "code",
   "execution_count": null,
   "id": "5c45f53b-76c3-419f-b1a2-9cff6883531e",
   "metadata": {},
   "outputs": [],
   "source": [
    "fig, ax = plt.subplots(1, 1, figsize=(4, 4))\n",
    "plot_acf(data[\"model_ARIMA\"][\"y_diff3\"].dropna(), ax=ax, lags=40)\n",
    "ax.set_title(\"ACF\")\n",
    "plt.tight_layout()\n",
    "plt.show()\n"
   ]
  },
  {
   "cell_type": "code",
   "execution_count": null,
   "id": "dc94ee03-d23b-48b0-a86c-56824320b901",
   "metadata": {},
   "outputs": [],
   "source": [
    "# ACF looks like expected. Despite p_value lower than 0.05, data is still non-stationary. Let's try different approach."
   ]
  },
  {
   "cell_type": "code",
   "execution_count": null,
   "id": "b209d448-b3e5-42d8-b097-7006ec528c02",
   "metadata": {},
   "outputs": [],
   "source": [
    "data[\"forecast\"] = data[\"forecast\"].drop(columns=[\"y_diff1\", \"y_diff2\", \"y_diff3\"],axis=1)"
   ]
  },
  {
   "cell_type": "markdown",
   "id": "36ed4818-51ea-454a-8544-646166fee2e7",
   "metadata": {},
   "source": [
    "### Log approach"
   ]
  },
  {
   "cell_type": "code",
   "execution_count": null,
   "id": "d9a110bc-d6cf-402e-8fed-5e7a184645a0",
   "metadata": {},
   "outputs": [],
   "source": [
    "data[\"model_ARIMA\"] = data[\"forecast\"]"
   ]
  },
  {
   "cell_type": "code",
   "execution_count": null,
   "id": "57b28501-9ee8-4c71-92e3-e50920b411c1",
   "metadata": {},
   "outputs": [],
   "source": [
    "fig, ax = plt.subplots(3, 1, figsize=(20, 15))\n",
    "\n",
    "ax[0].plot(data[\"model_ARIMA\"][\"ds\"], data[\"model_ARIMA\"][\"y\"], label=\"Original series\")\n",
    "ax[1].plot(data[\"model_ARIMA\"][\"ds\"], np.log(data[\"model_ARIMA\"][\"y\"]), label=\"After log transform\")\n",
    "data[\"model_ARIMA\"][\"transformed\"] = np.log(data[\"model_ARIMA\"][\"y\"]).diff(periods = 12)\n",
    "data[\"model_ARIMA\"].dropna(inplace=True)\n",
    "ax[2].plot(data[\"model_ARIMA\"][\"ds\"], data[\"model_ARIMA\"][\"transformed\"], label=\"After differencing\");"
   ]
  },
  {
   "cell_type": "code",
   "execution_count": null,
   "id": "66211469-f2c1-4b92-a47b-dd0893cc1353",
   "metadata": {},
   "outputs": [],
   "source": [
    "adf_test = adfuller(data[\"model_ARIMA\"][\"transformed\"].dropna())\n",
    "print('ADF Statistic: %f' % adf_test[0])\n",
    "print('p-value: %f' % adf_test[1])"
   ]
  },
  {
   "cell_type": "code",
   "execution_count": null,
   "id": "ab1b5714-94aa-4c63-b172-fcbd059bdbdf",
   "metadata": {},
   "outputs": [],
   "source": [
    "fig, ax = plt.subplots(1, 1, figsize=(4, 4))\n",
    "plot_acf(data[\"model_ARIMA\"][\"transformed\"].dropna(), ax=ax, lags=40)\n",
    "ax.set_title(\"ACF\")\n",
    "plt.tight_layout()\n",
    "plt.show()"
   ]
  },
  {
   "cell_type": "code",
   "execution_count": null,
   "id": "9cf45f32-4d68-4f8f-8bc9-5565339d6aef",
   "metadata": {},
   "outputs": [],
   "source": [
    "fig, ax = plt.subplots(1, 1, figsize=(4, 4))\n",
    "plot_pacf(data[\"model_ARIMA\"][\"transformed\"].dropna(), ax=ax, lags=40)\n",
    "ax.set_title(\"PACF\")\n",
    "plt.tight_layout()\n",
    "plt.show()"
   ]
  },
  {
   "cell_type": "code",
   "execution_count": null,
   "id": "ad6583d1-0b74-4a69-b45c-4486072336eb",
   "metadata": {},
   "outputs": [],
   "source": [
    "## As we can see, it's hard to prepare this data for ARIMA modelling. Let's try SARIMA."
   ]
  },
  {
   "cell_type": "markdown",
   "id": "44ce43b9-d0c7-4112-bfc4-9be3592f054b",
   "metadata": {},
   "source": [
    "## SARIMA Model"
   ]
  },
  {
   "cell_type": "code",
   "execution_count": null,
   "id": "dc0bd8f9-ac4c-4e96-824b-16bbdfa2735c",
   "metadata": {},
   "outputs": [],
   "source": [
    "del data[\"forecast\"]"
   ]
  },
  {
   "cell_type": "code",
   "execution_count": null,
   "id": "2a34326e-a4d5-45c0-8a9f-547d168201ec",
   "metadata": {},
   "outputs": [],
   "source": [
    "data[\"forecast\"] = data[\"delivery\"][['First day of the week', 'y']]\n",
    "data[\"forecast\"] = data[\"forecast\"].groupby(\"First day of the week\").sum()\n",
    "data[\"model_SARIMA\"] = data[\"forecast\"]\n",
    "data[\"model_SARIMA\"].reset_index(inplace=True)\n",
    "data[\"model_SARIMA\"].columns = [\"ds\", \"y\"]"
   ]
  },
  {
   "cell_type": "code",
   "execution_count": null,
   "id": "19344f36-11c5-4745-b90d-aba8f2154693",
   "metadata": {},
   "outputs": [],
   "source": [
    "data[\"model_SARIMA\"].head(5)"
   ]
  },
  {
   "cell_type": "code",
   "execution_count": null,
   "id": "726661b5-2df3-4d33-9ee2-91482b2e0b24",
   "metadata": {},
   "outputs": [],
   "source": [
    "plot_acf(data[\"model_SARIMA\"][\"y\"], lags=150)\n",
    "plot_pacf(data[\"model_SARIMA\"][\"y\"], lags=75)\n",
    "plt.show()"
   ]
  },
  {
   "cell_type": "markdown",
   "id": "4ec9905b-704d-4802-a5a4-3d50a6868b86",
   "metadata": {},
   "source": [
    "### Decomposition"
   ]
  },
  {
   "cell_type": "code",
   "execution_count": null,
   "id": "5040a46f-d1c8-44af-8ace-c82601fd91c1",
   "metadata": {},
   "outputs": [],
   "source": [
    "decomposition=seasonal_decompose(data[\"model_SARIMA\"][\"y\"],model='multiplicative',period=12)\n",
    "decomposition.plot()\n",
    "plt.show()"
   ]
  },
  {
   "cell_type": "markdown",
   "id": "9768e1b3-4d0c-4d74-b8d9-bb7dca68acbb",
   "metadata": {},
   "source": [
    "### SARIMA modelling"
   ]
  },
  {
   "cell_type": "code",
   "execution_count": null,
   "id": "6aa91702-21f4-4232-b80b-64875fa7e4b5",
   "metadata": {},
   "outputs": [],
   "source": [
    "# Based on the plots I'd start with SARIMA(0,2,0)(0,1,1,12) parameters."
   ]
  },
  {
   "cell_type": "code",
   "execution_count": null,
   "id": "55795da5-8864-4867-a67c-4400c3c4f05b",
   "metadata": {},
   "outputs": [],
   "source": [
    "sarima=SARIMAX(data[\"model_SARIMA\"][\"y\"],order=(0,2,0),seasonal_order=(0,1,1,12))\n",
    "data[\"model_SARIMA\"][\"predicted_\"]=sarima.fit().predict()"
   ]
  },
  {
   "cell_type": "code",
   "execution_count": null,
   "id": "74ad1c4d-2f58-4a21-96db-83da8c74d3bd",
   "metadata": {},
   "outputs": [],
   "source": [
    "# Let's also try pmdarima to generate optimal p,d,q values."
   ]
  },
  {
   "cell_type": "code",
   "execution_count": null,
   "id": "a4e0ffe2-b880-4767-9f97-75c26238120b",
   "metadata": {},
   "outputs": [],
   "source": [
    "model=pmd.auto_arima(data[\"model_SARIMA\"][\"y\"],start_p=0,start_q=0,test='adf',m=12,seasonal=True,trace=True)\n"
   ]
  },
  {
   "cell_type": "code",
   "execution_count": null,
   "id": "ea7df141-e05c-4081-8889-5bbd936b266b",
   "metadata": {},
   "outputs": [],
   "source": [
    "# So for pmd te best model is Best model:  ARIMA(0,2,0)(0,0,0)[12]."
   ]
  },
  {
   "cell_type": "code",
   "execution_count": null,
   "id": "1a143b7c-b90a-4f3e-995a-4dc49aa9a865",
   "metadata": {},
   "outputs": [],
   "source": [
    "sarima=SARIMAX(data[\"model_SARIMA\"][\"y\"],order=(0,2,0),seasonal_order=(0,0,0,12))\n",
    "data[\"model_SARIMA\"][\"predicted_pmd\"]=sarima.fit().predict()"
   ]
  },
  {
   "cell_type": "code",
   "execution_count": null,
   "id": "c6062467-72a8-4419-99a1-908c5c82d2ce",
   "metadata": {},
   "outputs": [],
   "source": [
    "data[\"model_SARIMA\"].drop(index=[0,1],inplace=True)"
   ]
  },
  {
   "cell_type": "markdown",
   "id": "04518635-5052-4606-8098-c7ea03b5f149",
   "metadata": {},
   "source": [
    "### SARIMA forecast"
   ]
  },
  {
   "cell_type": "code",
   "execution_count": null,
   "id": "5965ff25-9cbc-44cc-84f9-a2976d29f469",
   "metadata": {},
   "outputs": [],
   "source": [
    "data[\"model_SARIMA\"].plot(x=\"ds\")"
   ]
  },
  {
   "cell_type": "markdown",
   "id": "8fc3fd89-76ab-47b5-b727-a2d024b76edf",
   "metadata": {},
   "source": [
    "## Comparison between Prophet and SARIMA"
   ]
  },
  {
   "cell_type": "code",
   "execution_count": null,
   "id": "b5e0a3b9-c50c-4e85-bcc3-9da9a3e5264f",
   "metadata": {},
   "outputs": [],
   "source": [
    "data[\"Comp\"] = data[\"model_SARIMA\"]"
   ]
  },
  {
   "cell_type": "code",
   "execution_count": null,
   "id": "3ca21a23-13b8-4e3c-a1a7-b6c04f17ea2d",
   "metadata": {},
   "outputs": [],
   "source": [
    "data[\"Comp\"] = data[\"Comp\"].merge(\n",
    "    data[\"model_prophet\"][['ds', 'yhat', 'yhat_lower', 'yhat_upper']],\n",
    "    on=\"ds\",\n",
    "    how=\"left\"\n",
    ")"
   ]
  },
  {
   "cell_type": "code",
   "execution_count": null,
   "id": "a9aa1b5f-da57-44a8-b401-f3c533046489",
   "metadata": {},
   "outputs": [],
   "source": [
    "data[\"Comp\"].head()"
   ]
  },
  {
   "cell_type": "markdown",
   "id": "b4857546-b61d-4b35-bbbb-5bd17bbf810f",
   "metadata": {},
   "source": [
    "### Prediction error"
   ]
  },
  {
   "cell_type": "code",
   "execution_count": null,
   "id": "add7d93f-3482-458d-ac39-5ad8266b4a7a",
   "metadata": {},
   "outputs": [],
   "source": [
    "data[\"Comp\"][\"error_yhat\"] = data[\"Comp\"][\"y\"] - data[\"Comp\"][\"yhat\"]\n",
    "data[\"Comp\"][\"error_pred\"] = data[\"Comp\"][\"y\"] - data[\"Comp\"][\"predicted_\"]\n",
    "data[\"Comp\"][\"error_pmd\"] = data[\"Comp\"][\"y\"] - data[\"Comp\"][\"predicted_pmd\"]\n",
    "\n",
    "data[\"Comp\"].plot(x='ds', y=['error_yhat', 'error_pred', 'error_pmd'], figsize=(10, 5))\n"
   ]
  },
  {
   "cell_type": "markdown",
   "id": "7c4177a2-85c1-4e6d-9648-ee1bb9dd5404",
   "metadata": {},
   "source": [
    "### Scatter plot between y and predicted values"
   ]
  },
  {
   "cell_type": "code",
   "execution_count": null,
   "id": "e3bed45f-2b9e-442a-86f6-ee41125f2dbf",
   "metadata": {},
   "outputs": [],
   "source": [
    "plt.scatter(data[\"Comp\"][\"y\"], data[\"Comp\"][\"yhat\"], alpha=0.6, label='yhat')\n",
    "plt.scatter(data[\"Comp\"][\"y\"], data[\"Comp\"][\"predicted_\"], alpha=0.6, label='predicted_')\n",
    "plt.scatter(data[\"Comp\"][\"y\"], data[\"Comp\"][\"predicted_pmd\"], alpha=0.6, label='predicted_pmd')\n",
    "plt.plot([data[\"Comp\"][\"y\"].min(), data[\"Comp\"][\"y\"].max()],\n",
    "         [data[\"Comp\"][\"y\"].min(), data[\"Comp\"][\"y\"].max()], 'k--', lw=2)\n",
    "plt.xlabel(\"y\")\n",
    "plt.ylabel(\"Predicted\")\n",
    "plt.legend()\n",
    "plt.title(\"y vs Predictions\")\n",
    "plt.show()"
   ]
  },
  {
   "cell_type": "markdown",
   "id": "d6bb1896-7f7e-4dfb-9d04-7ca10b5b5672",
   "metadata": {},
   "source": [
    "### Graph showing y vs yhat and prediction error"
   ]
  },
  {
   "cell_type": "code",
   "execution_count": null,
   "id": "1493afb8-5baa-4fc4-ab9b-4573d550a829",
   "metadata": {},
   "outputs": [],
   "source": [
    "fig, ax = plt.subplots(figsize=(10,5))\n",
    "ax.plot(data[\"Comp\"][\"ds\"], data[\"Comp\"][\"y\"], label='y', linewidth=2)\n",
    "ax.plot(data[\"Comp\"][\"ds\"], data[\"Comp\"][\"yhat\"], label='yhat', linestyle='--')\n",
    "\n",
    "ax.fill_between(data[\"Comp\"][\"ds\"],\n",
    "                data[\"Comp\"][\"y\"],\n",
    "                data[\"Comp\"][\"yhat\"],\n",
    "                color='gray', alpha=0.3, label='yhat error')\n",
    "ax.legend()\n",
    "plt.show()"
   ]
  },
  {
   "cell_type": "code",
   "execution_count": null,
   "id": "34fdbbee-0134-4b62-9ab9-c37ac8aa86f8",
   "metadata": {},
   "outputs": [],
   "source": [
    "fig, ax = plt.subplots(figsize=(10,5))\n",
    "ax.plot(data[\"Comp\"][\"ds\"], data[\"Comp\"][\"y\"], label='y', linewidth=2)\n",
    "ax.plot(data[\"Comp\"][\"ds\"], data[\"Comp\"][\"predicted_\"], label='y_pred', linestyle='--')\n",
    "\n",
    "ax.fill_between(data[\"Comp\"][\"ds\"],\n",
    "                data[\"Comp\"][\"y\"],\n",
    "                data[\"Comp\"][\"predicted_\"],\n",
    "                color='gray', alpha=0.3, label='predicted_ error')\n",
    "ax.legend()\n",
    "plt.show()"
   ]
  },
  {
   "cell_type": "code",
   "execution_count": null,
   "id": "b0225c2a-53d4-444d-8489-b7c97f087f8f",
   "metadata": {},
   "outputs": [],
   "source": [
    "fig, ax = plt.subplots(figsize=(10,5))\n",
    "ax.plot(data[\"Comp\"][\"ds\"], data[\"Comp\"][\"y\"], label='y', linewidth=2)\n",
    "ax.plot(data[\"Comp\"][\"ds\"], data[\"Comp\"][\"predicted_pmd\"], label='predicted_pmd', linestyle='--')\n",
    "\n",
    "ax.fill_between(data[\"Comp\"][\"ds\"],\n",
    "                data[\"Comp\"][\"y\"],\n",
    "                data[\"Comp\"][\"predicted_pmd\"],\n",
    "                color='gray', alpha=0.3, label='predicted_pmd error')\n",
    "ax.legend()\n",
    "plt.show()"
   ]
  },
  {
   "cell_type": "markdown",
   "id": "d2ff28ef-8c7e-485d-917a-9229c9f44b5d",
   "metadata": {},
   "source": [
    "### Calculating RMSE"
   ]
  },
  {
   "cell_type": "code",
   "execution_count": null,
   "id": "e1cc6935-a5fd-4962-9265-d9b773fc11c3",
   "metadata": {},
   "outputs": [],
   "source": [
    "rmse_yhat = np.sqrt(mean_squared_error(data[\"Comp\"][\"y\"], data[\"Comp\"][\"yhat\"]))\n",
    "rmse_pred = np.sqrt(mean_squared_error(data[\"Comp\"][\"y\"], data[\"Comp\"][\"predicted_\"]))\n",
    "rmse_pmd = np.sqrt(mean_squared_error(data[\"Comp\"][\"y\"], data[\"Comp\"][\"predicted_pmd\"]))\n",
    "\n",
    "print(\"RMSE (Prophet):\", rmse_yhat)\n",
    "print(\"RMSE (SARIMA my parameters):\", rmse_pred)\n",
    "print(\"RMSE (SARIMA pdarima parameters):\", rmse_pmd)"
   ]
  },
  {
   "cell_type": "markdown",
   "id": "c9707a2f-1ff8-4a0f-9df8-271dc49ba9f0",
   "metadata": {},
   "source": [
    "# Conclusion"
   ]
  },
  {
   "cell_type": "markdown",
   "id": "a3639163-f37d-4db9-aed0-1d88230128a2",
   "metadata": {},
   "source": [
    "Based on the showed graphs and RMSE the winner is Prophet model. It outperformed opponents in every field - overall quaility,\n",
    "simplicity and direct comparison between SARIMA models. Prophet also offers more possibilities to enhance the hyperparametr\n",
    "tuning process, so I'd definitely opt for Prophet modelling."
   ]
  },
  {
   "cell_type": "markdown",
   "id": "0958c280-28be-4c8d-bbec-28ee9b835412",
   "metadata": {},
   "source": [
    "# Key findings"
   ]
  },
  {
   "cell_type": "markdown",
   "id": "c6c6b0d4-e19e-4571-8008-b823ddd871b4",
   "metadata": {},
   "source": [
    "- ARIMA model was almost impossible to use in this case. Mainly because of strong seasonality of the dataset.\n",
    "- Prophet was the easiest to use forecasting tool in this notebook.\n",
    "- SARIMA requires more experience with detecting optimal parametrs."
   ]
  },
  {
   "cell_type": "markdown",
   "id": "38b77238-7a3b-43f9-9ba3-b84f813d98eb",
   "metadata": {},
   "source": [
    "# Suggestions "
   ]
  },
  {
   "cell_type": "markdown",
   "id": "01a18327-c9b8-47a2-abf1-91fb524d3caf",
   "metadata": {},
   "source": [
    "- Future forecast should also take into account categorization farm on the basis of the quantity of produced milk per specified Farm.\n",
    "- Definitely use Prophet to model future forecast."
   ]
  },
  {
   "cell_type": "code",
   "execution_count": null,
   "id": "5cd7e6bd-eb40-46ff-8d3f-02d610d82a25",
   "metadata": {},
   "outputs": [],
   "source": []
  }
 ],
 "metadata": {
  "kernelspec": {
   "display_name": "Python (jupyter-venv)",
   "language": "python",
   "name": "jupyter-venv"
  },
  "language_info": {
   "codemirror_mode": {
    "name": "ipython",
    "version": 3
   },
   "file_extension": ".py",
   "mimetype": "text/x-python",
   "name": "python",
   "nbconvert_exporter": "python",
   "pygments_lexer": "ipython3",
   "version": "3.12.7"
  }
 },
 "nbformat": 4,
 "nbformat_minor": 5
}
